{
 "cells": [
  {
   "cell_type": "code",
   "execution_count": 5,
   "metadata": {},
   "outputs": [],
   "source": [
    "import os, re\n",
    "import numpy as np\n",
    "import matplotlib.pyplot as plt\n",
    "\n",
    "import numpy as np\n",
    "import math\n",
    "import cmath\n",
    "import os\n",
    "from functools import lru_cache\n",
    "import ipyparallel as ipp\n",
    "\n",
    "# La base choisie pour les matrices de scattering qui suivent est la suivante:\n",
    "# e up (contact 1), e down (contact 1), h up (contact 1), h down (contact 1) \n",
    "# e up (contact 2) ...etc.\n",
    "# (et S relie incoming et outgoing)"
   ]
  },
  {
   "cell_type": "code",
   "execution_count": 8,
   "metadata": {},
   "outputs": [
    {
     "data": {
      "text/plain": [
       "[]"
      ]
     },
     "execution_count": 8,
     "metadata": {},
     "output_type": "execute_result"
    }
   ],
   "source": [
    "rc = ipp.Client()\n",
    "rc.ids"
   ]
  },
  {
   "cell_type": "code",
   "execution_count": 6,
   "metadata": {},
   "outputs": [
    {
     "data": {
      "text/plain": [
       "<AsyncResult: execute>"
      ]
     },
     "execution_count": 6,
     "metadata": {},
     "output_type": "execute_result"
    }
   ],
   "source": [
    "rc[:].run('imports.py')"
   ]
  },
  {
   "cell_type": "markdown",
   "metadata": {},
   "source": [
    "# transmission d'un segment sans supra, sans hélice de champs"
   ]
  },
  {
   "cell_type": "code",
   "execution_count": 7,
   "metadata": {},
   "outputs": [
    {
     "ename": "NameError",
     "evalue": "name 'trans_helix_beamS_helix' is not defined",
     "output_type": "error",
     "traceback": [
      "\u001b[1;31m---------------------------------------------------------------------------\u001b[0m",
      "\u001b[1;31mNameError\u001b[0m                                 Traceback (most recent call last)",
      "\u001b[1;32m<ipython-input-7-e3e49741ae93>\u001b[0m in \u001b[0;36m<module>\u001b[1;34m()\u001b[0m\n\u001b[0;32m     13\u001b[0m \u001b[1;32mfor\u001b[0m \u001b[0mi\u001b[0m\u001b[1;33m,\u001b[0m \u001b[0mE\u001b[0m \u001b[1;32min\u001b[0m \u001b[0menumerate\u001b[0m\u001b[1;33m(\u001b[0m\u001b[0mE_arr\u001b[0m\u001b[1;33m)\u001b[0m\u001b[1;33m:\u001b[0m\u001b[1;33m\u001b[0m\u001b[0m\n\u001b[0;32m     14\u001b[0m     \u001b[1;32mfor\u001b[0m \u001b[0mj\u001b[0m\u001b[1;33m,\u001b[0m \u001b[0mmu\u001b[0m \u001b[1;32min\u001b[0m \u001b[0menumerate\u001b[0m\u001b[1;33m(\u001b[0m\u001b[0mmu_arr\u001b[0m\u001b[1;33m)\u001b[0m\u001b[1;33m:\u001b[0m\u001b[1;33m\u001b[0m\u001b[0m\n\u001b[1;32m---> 15\u001b[1;33m         res[i, j] = np.abs(trans_helix_beamS_helix(E, delta, phi, mu, mu, theta, \n\u001b[0m\u001b[0;32m     16\u001b[0m                                                    theta, h, h, l, l, trans1, trans2))\n\u001b[0;32m     17\u001b[0m \u001b[1;33m\u001b[0m\u001b[0m\n",
      "\u001b[1;31mNameError\u001b[0m: name 'trans_helix_beamS_helix' is not defined"
     ]
    }
   ],
   "source": [
    "E_arr = np.linspace(-2.001, 2.001, num=51)\n",
    "mu_arr = np.linspace(1.001, 10.001, num=41)\n",
    "\n",
    "h = 0.02\n",
    "theta = 0.01\n",
    "l = 3.\n",
    "trans1 = .1\n",
    "trans2 = .2\n",
    "phi = 0\n",
    "delta = 10.\n",
    "\n",
    "res = np.empty((E_arr.size, mu_arr.size))\n",
    "for i, E in enumerate(E_arr):\n",
    "    for j, mu in enumerate(mu_arr):\n",
    "        res[i, j] = np.abs(trans_helix_beamS_helix(E, delta, phi, mu, mu, theta, \n",
    "                                                   theta, h, h, l, l, trans1, trans2))\n",
    "        \n",
    "plt.imshow(res)\n",
    "plt.colorbar()"
   ]
  },
  {
   "cell_type": "markdown",
   "metadata": {},
   "source": [
    "# Avec la supra"
   ]
  },
  {
   "cell_type": "code",
   "execution_count": null,
   "metadata": {},
   "outputs": [],
   "source": [
    "mu_arr = np.linspace(1.001, 10.001, num=41)\n",
    "\n",
    "h = 0.002\n",
    "theta = 0.001\n",
    "l = 3.22\n",
    "transL = .51\n",
    "transR = .5\n",
    "phi = 0\n",
    "delta = 1.\n",
    "\n",
    "# h=1.2; theta=5.0; l = 3.;  transL = .5; transR=.5; phi=2; delta = 10.; E=delta/2.; mu=delta/2.;\n",
    "\n",
    "E_arr = np.linspace(-.99*delta, .99*delta, num=51)\n",
    "\n",
    "res = np.empty((E_arr.size, mu_arr.size))\n",
    "for i, E in enumerate(E_arr):\n",
    "    for j, mu in enumerate(mu_arr):\n",
    "        res[i, j] = np.abs(trans_helix_beamS_helix(E, delta, phi, mu, mu, theta, \n",
    "                                                   theta, h, h, l, l, transL, transR))\n",
    "        \n",
    "plt.imshow(res)\n",
    "plt.colorbar()"
   ]
  }
 ],
 "metadata": {
  "kernelspec": {
   "display_name": "Python 3",
   "language": "python",
   "name": "python3"
  },
  "language_info": {
   "codemirror_mode": {
    "name": "ipython",
    "version": 3
   },
   "file_extension": ".py",
   "mimetype": "text/x-python",
   "name": "python",
   "nbconvert_exporter": "python",
   "pygments_lexer": "ipython3",
   "version": "3.6.6"
  }
 },
 "nbformat": 4,
 "nbformat_minor": 2
}
